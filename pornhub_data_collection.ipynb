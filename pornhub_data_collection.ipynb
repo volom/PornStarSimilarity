{
  "cells": [
    {
      "cell_type": "markdown",
      "metadata": {
        "id": "WZKTz7LO0z-M"
      },
      "source": [
        "### Notebook for parsing porn stars names and their photos"
      ]
    },
    {
      "cell_type": "markdown",
      "metadata": {
        "id": "XnMD03EWaN0K"
      },
      "source": [
        "#Get porn stars data from *pornhub.com*"
      ]
    },
    {
      "cell_type": "code",
      "execution_count": null,
      "metadata": {
        "id": "2M12BeHzaRkQ"
      },
      "outputs": [],
      "source": [
        "from bs4 import BeautifulSoup\n",
        "import requests\n",
        "import re\n",
        "import time\n",
        "import pandas as pd\n",
        "from tqdm import tqdm"
      ]
    },
    {
      "cell_type": "code",
      "execution_count": null,
      "metadata": {
        "id": "cb90fAeHbraO"
      },
      "outputs": [],
      "source": [
        "first_page = \"https://rt.pornhub.com/pornstars?page=1\"\n",
        "max_page = 1754"
      ]
    },
    {
      "cell_type": "code",
      "execution_count": null,
      "metadata": {
        "id": "soMe9siXkFBg"
      },
      "outputs": [],
      "source": [
        "def get_pstars(page) -> list:\n",
        "    page_stars = []\n",
        "    \n",
        "    req = requests.get(f\"https://rt.pornhub.com/pornstars?page={page}\")\n",
        "    soup = BeautifulSoup(req.text, 'html.parser')\n",
        "    \n",
        "    for star in soup(\"li\", \"pornstarLi\"):\n",
        "        one_star = {}\n",
        "        # get name\n",
        "        one_star['name'] = star(class_=\"js-mxp\")[0][\"data-mxptext\"]\n",
        "        # get number of videos and views\n",
        "        vp = star(class_=\"videosNumber\")[0].text\n",
        "        one_star['videos'] = vp.split(\"\\t\\t\\t\\t\")[0].strip(\" \")\n",
        "        one_star['views'] = vp.split(\"\\t\\t\\t\\t\")[1].strip(\" \")\n",
        "        page_stars.append(one_star)\n",
        "        \n",
        "    return page_stars"
      ]
    },
    {
      "cell_type": "code",
      "execution_count": null,
      "metadata": {
        "id": "VRlWaXFwmsT4"
      },
      "outputs": [],
      "source": [
        "all_pages = []"
      ]
    },
    {
      "cell_type": "code",
      "execution_count": null,
      "metadata": {
        "colab": {
          "base_uri": "https://localhost:8080/"
        },
        "id": "aIj4s5lGcZby",
        "outputId": "fa5ba631-d715-481c-f3fa-44a9c226bd3e"
      },
      "outputs": [
        {
          "name": "stderr",
          "output_type": "stream",
          "text": [
            "100%|██████████| 1754/1754 [1:25:53<00:00,  2.94s/it]\n"
          ]
        }
      ],
      "source": [
        "for page in tqdm(range(1, max_page+1), position=0, leave=True):\n",
        "    all_pages += get_pstars(page)\n",
        "    time.sleep(2)"
      ]
    },
    {
      "cell_type": "code",
      "execution_count": null,
      "metadata": {
        "id": "ETk7sW-Nmvt2"
      },
      "outputs": [],
      "source": [
        "ph_stars = pd.DataFrame(all_pages)"
      ]
    },
    {
      "cell_type": "code",
      "execution_count": null,
      "metadata": {
        "colab": {
          "base_uri": "https://localhost:8080/",
          "height": 423
        },
        "id": "PF_f7G_Wm0Yk",
        "outputId": "44176ce0-f99c-44cc-b444-ff5b6e998081"
      },
      "outputs": [
        {
          "data": {
            "text/html": [
              "\n",
              "  <div id=\"df-cb4b9fa8-a054-4fd6-9684-02bd2def1cc7\">\n",
              "    <div class=\"colab-df-container\">\n",
              "      <div>\n",
              "<style scoped>\n",
              "    .dataframe tbody tr th:only-of-type {\n",
              "        vertical-align: middle;\n",
              "    }\n",
              "\n",
              "    .dataframe tbody tr th {\n",
              "        vertical-align: top;\n",
              "    }\n",
              "\n",
              "    .dataframe thead th {\n",
              "        text-align: right;\n",
              "    }\n",
              "</style>\n",
              "<table border=\"1\" class=\"dataframe\">\n",
              "  <thead>\n",
              "    <tr style=\"text-align: right;\">\n",
              "      <th></th>\n",
              "      <th>name</th>\n",
              "      <th>videos</th>\n",
              "      <th>views</th>\n",
              "    </tr>\n",
              "  </thead>\n",
              "  <tbody>\n",
              "    <tr>\n",
              "      <th>0</th>\n",
              "      <td>Lana Rhoades</td>\n",
              "      <td>391 Видео</td>\n",
              "      <td>1.2B показов</td>\n",
              "    </tr>\n",
              "    <tr>\n",
              "      <th>1</th>\n",
              "      <td>Abella Danger</td>\n",
              "      <td>996 Видео</td>\n",
              "      <td>1.4B показов</td>\n",
              "    </tr>\n",
              "    <tr>\n",
              "      <th>2</th>\n",
              "      <td>Eva Elfie</td>\n",
              "      <td>149 Видео</td>\n",
              "      <td>716M показов</td>\n",
              "    </tr>\n",
              "    <tr>\n",
              "      <th>3</th>\n",
              "      <td>Riley Reid</td>\n",
              "      <td>834 Видео</td>\n",
              "      <td>1.5B показов</td>\n",
              "    </tr>\n",
              "    <tr>\n",
              "      <th>4</th>\n",
              "      <td>Mia Malkova</td>\n",
              "      <td>533 Видео</td>\n",
              "      <td>706M показов</td>\n",
              "    </tr>\n",
              "    <tr>\n",
              "      <th>...</th>\n",
              "      <td>...</td>\n",
              "      <td>...</td>\n",
              "      <td>...</td>\n",
              "    </tr>\n",
              "    <tr>\n",
              "      <th>17724</th>\n",
              "      <td>Callie Bond</td>\n",
              "      <td>0 Видео</td>\n",
              "      <td>0 показов</td>\n",
              "    </tr>\n",
              "    <tr>\n",
              "      <th>17725</th>\n",
              "      <td>Dawid White</td>\n",
              "      <td>0 Видео</td>\n",
              "      <td>0 показов</td>\n",
              "    </tr>\n",
              "    <tr>\n",
              "      <th>17726</th>\n",
              "      <td>Mirage806</td>\n",
              "      <td>0 Видео</td>\n",
              "      <td>0 показов</td>\n",
              "    </tr>\n",
              "    <tr>\n",
              "      <th>17727</th>\n",
              "      <td>Jon Davids</td>\n",
              "      <td>1 Видео</td>\n",
              "      <td>23.7K показов</td>\n",
              "    </tr>\n",
              "    <tr>\n",
              "      <th>17728</th>\n",
              "      <td>Tatiana Lemos</td>\n",
              "      <td>1 Видео</td>\n",
              "      <td>5.7K показов</td>\n",
              "    </tr>\n",
              "  </tbody>\n",
              "</table>\n",
              "<p>17729 rows × 3 columns</p>\n",
              "</div>\n",
              "      <button class=\"colab-df-convert\" onclick=\"convertToInteractive('df-cb4b9fa8-a054-4fd6-9684-02bd2def1cc7')\"\n",
              "              title=\"Convert this dataframe to an interactive table.\"\n",
              "              style=\"display:none;\">\n",
              "        \n",
              "  <svg xmlns=\"http://www.w3.org/2000/svg\" height=\"24px\"viewBox=\"0 0 24 24\"\n",
              "       width=\"24px\">\n",
              "    <path d=\"M0 0h24v24H0V0z\" fill=\"none\"/>\n",
              "    <path d=\"M18.56 5.44l.94 2.06.94-2.06 2.06-.94-2.06-.94-.94-2.06-.94 2.06-2.06.94zm-11 1L8.5 8.5l.94-2.06 2.06-.94-2.06-.94L8.5 2.5l-.94 2.06-2.06.94zm10 10l.94 2.06.94-2.06 2.06-.94-2.06-.94-.94-2.06-.94 2.06-2.06.94z\"/><path d=\"M17.41 7.96l-1.37-1.37c-.4-.4-.92-.59-1.43-.59-.52 0-1.04.2-1.43.59L10.3 9.45l-7.72 7.72c-.78.78-.78 2.05 0 2.83L4 21.41c.39.39.9.59 1.41.59.51 0 1.02-.2 1.41-.59l7.78-7.78 2.81-2.81c.8-.78.8-2.07 0-2.86zM5.41 20L4 18.59l7.72-7.72 1.47 1.35L5.41 20z\"/>\n",
              "  </svg>\n",
              "      </button>\n",
              "      \n",
              "  <style>\n",
              "    .colab-df-container {\n",
              "      display:flex;\n",
              "      flex-wrap:wrap;\n",
              "      gap: 12px;\n",
              "    }\n",
              "\n",
              "    .colab-df-convert {\n",
              "      background-color: #E8F0FE;\n",
              "      border: none;\n",
              "      border-radius: 50%;\n",
              "      cursor: pointer;\n",
              "      display: none;\n",
              "      fill: #1967D2;\n",
              "      height: 32px;\n",
              "      padding: 0 0 0 0;\n",
              "      width: 32px;\n",
              "    }\n",
              "\n",
              "    .colab-df-convert:hover {\n",
              "      background-color: #E2EBFA;\n",
              "      box-shadow: 0px 1px 2px rgba(60, 64, 67, 0.3), 0px 1px 3px 1px rgba(60, 64, 67, 0.15);\n",
              "      fill: #174EA6;\n",
              "    }\n",
              "\n",
              "    [theme=dark] .colab-df-convert {\n",
              "      background-color: #3B4455;\n",
              "      fill: #D2E3FC;\n",
              "    }\n",
              "\n",
              "    [theme=dark] .colab-df-convert:hover {\n",
              "      background-color: #434B5C;\n",
              "      box-shadow: 0px 1px 3px 1px rgba(0, 0, 0, 0.15);\n",
              "      filter: drop-shadow(0px 1px 2px rgba(0, 0, 0, 0.3));\n",
              "      fill: #FFFFFF;\n",
              "    }\n",
              "  </style>\n",
              "\n",
              "      <script>\n",
              "        const buttonEl =\n",
              "          document.querySelector('#df-cb4b9fa8-a054-4fd6-9684-02bd2def1cc7 button.colab-df-convert');\n",
              "        buttonEl.style.display =\n",
              "          google.colab.kernel.accessAllowed ? 'block' : 'none';\n",
              "\n",
              "        async function convertToInteractive(key) {\n",
              "          const element = document.querySelector('#df-cb4b9fa8-a054-4fd6-9684-02bd2def1cc7');\n",
              "          const dataTable =\n",
              "            await google.colab.kernel.invokeFunction('convertToInteractive',\n",
              "                                                     [key], {});\n",
              "          if (!dataTable) return;\n",
              "\n",
              "          const docLinkHtml = 'Like what you see? Visit the ' +\n",
              "            '<a target=\"_blank\" href=https://colab.research.google.com/notebooks/data_table.ipynb>data table notebook</a>'\n",
              "            + ' to learn more about interactive tables.';\n",
              "          element.innerHTML = '';\n",
              "          dataTable['output_type'] = 'display_data';\n",
              "          await google.colab.output.renderOutput(dataTable, element);\n",
              "          const docLink = document.createElement('div');\n",
              "          docLink.innerHTML = docLinkHtml;\n",
              "          element.appendChild(docLink);\n",
              "        }\n",
              "      </script>\n",
              "    </div>\n",
              "  </div>\n",
              "  "
            ],
            "text/plain": [
              "                name     videos          views\n",
              "0       Lana Rhoades  391 Видео   1.2B показов\n",
              "1      Abella Danger  996 Видео   1.4B показов\n",
              "2          Eva Elfie  149 Видео   716M показов\n",
              "3         Riley Reid  834 Видео   1.5B показов\n",
              "4        Mia Malkova  533 Видео   706M показов\n",
              "...              ...        ...            ...\n",
              "17724    Callie Bond    0 Видео      0 показов\n",
              "17725    Dawid White    0 Видео      0 показов\n",
              "17726      Mirage806    0 Видео      0 показов\n",
              "17727     Jon Davids    1 Видео  23.7K показов\n",
              "17728  Tatiana Lemos    1 Видео   5.7K показов\n",
              "\n",
              "[17729 rows x 3 columns]"
            ]
          },
          "execution_count": 154,
          "metadata": {},
          "output_type": "execute_result"
        }
      ],
      "source": [
        "ph_stars"
      ]
    },
    {
      "cell_type": "code",
      "execution_count": null,
      "metadata": {
        "id": "ek6xMDSR7dPy"
      },
      "outputs": [],
      "source": [
        "# get number of videos\n",
        "ph_stars['videos'] = ph_stars['videos'].apply(lambda x: int(re.match(r\"(\\d{1,8}).*\", x).group(1)))\n",
        "\n",
        "# clean views\n",
        "ph_stars['views'] = ph_stars['views'].apply(lambda x: re.match(r\"(.*)\\s.*\", str(x)).group(1))\n",
        "\n",
        "#convert views to numbers\n",
        "def get_number(x):\n",
        "    number = float(re.match(r\".*[^a-zA-Z]\", x).group(0))\n",
        "    try:\n",
        "        r = {\"B\":1000000000, \"M\":1000000, \"K\":1000}[re.match(r\".*([B|M|K])\", x).group(1)]\n",
        "    except:\n",
        "        r = 1\n",
        "    return number * r\n",
        "\n",
        "ph_stars['views'] = ph_stars['views'].apply(lambda x: get_number(x))"
      ]
    },
    {
      "cell_type": "code",
      "execution_count": null,
      "metadata": {
        "id": "ZU-xpSvVm274"
      },
      "outputs": [],
      "source": [
        "ph_stars.to_csv(\"ph_stars.csv\")"
      ]
    },
    {
      "cell_type": "code",
      "execution_count": null,
      "metadata": {
        "colab": {
          "base_uri": "https://localhost:8080/",
          "height": 423
        },
        "id": "ndgUBw7YB0CU",
        "outputId": "e2b2df7c-af1b-42c0-cb2d-f1c858ce3a62"
      },
      "outputs": [
        {
          "data": {
            "text/html": [
              "\n",
              "  <div id=\"df-e7be4ce3-debc-4b63-afc9-399ceb537e2b\">\n",
              "    <div class=\"colab-df-container\">\n",
              "      <div>\n",
              "<style scoped>\n",
              "    .dataframe tbody tr th:only-of-type {\n",
              "        vertical-align: middle;\n",
              "    }\n",
              "\n",
              "    .dataframe tbody tr th {\n",
              "        vertical-align: top;\n",
              "    }\n",
              "\n",
              "    .dataframe thead th {\n",
              "        text-align: right;\n",
              "    }\n",
              "</style>\n",
              "<table border=\"1\" class=\"dataframe\">\n",
              "  <thead>\n",
              "    <tr style=\"text-align: right;\">\n",
              "      <th></th>\n",
              "      <th>name</th>\n",
              "      <th>videos</th>\n",
              "      <th>views</th>\n",
              "    </tr>\n",
              "  </thead>\n",
              "  <tbody>\n",
              "    <tr>\n",
              "      <th>0</th>\n",
              "      <td>Lana Rhoades</td>\n",
              "      <td>391</td>\n",
              "      <td>1.200000e+09</td>\n",
              "    </tr>\n",
              "    <tr>\n",
              "      <th>1</th>\n",
              "      <td>Abella Danger</td>\n",
              "      <td>996</td>\n",
              "      <td>1.400000e+09</td>\n",
              "    </tr>\n",
              "    <tr>\n",
              "      <th>2</th>\n",
              "      <td>Eva Elfie</td>\n",
              "      <td>149</td>\n",
              "      <td>7.160000e+08</td>\n",
              "    </tr>\n",
              "    <tr>\n",
              "      <th>3</th>\n",
              "      <td>Riley Reid</td>\n",
              "      <td>834</td>\n",
              "      <td>1.500000e+09</td>\n",
              "    </tr>\n",
              "    <tr>\n",
              "      <th>4</th>\n",
              "      <td>Mia Malkova</td>\n",
              "      <td>533</td>\n",
              "      <td>7.060000e+08</td>\n",
              "    </tr>\n",
              "    <tr>\n",
              "      <th>...</th>\n",
              "      <td>...</td>\n",
              "      <td>...</td>\n",
              "      <td>...</td>\n",
              "    </tr>\n",
              "    <tr>\n",
              "      <th>16787</th>\n",
              "      <td>Beau Jingles</td>\n",
              "      <td>11</td>\n",
              "      <td>6.600000e+03</td>\n",
              "    </tr>\n",
              "    <tr>\n",
              "      <th>16852</th>\n",
              "      <td>Arcanjo Amaro</td>\n",
              "      <td>21</td>\n",
              "      <td>6.950000e+05</td>\n",
              "    </tr>\n",
              "    <tr>\n",
              "      <th>16940</th>\n",
              "      <td>Labelly Sandorram</td>\n",
              "      <td>12</td>\n",
              "      <td>4.520000e+05</td>\n",
              "    </tr>\n",
              "    <tr>\n",
              "      <th>17090</th>\n",
              "      <td>Sin-A-Men</td>\n",
              "      <td>12</td>\n",
              "      <td>4.120000e+05</td>\n",
              "    </tr>\n",
              "    <tr>\n",
              "      <th>17181</th>\n",
              "      <td>Jean-Claude Batiste</td>\n",
              "      <td>19</td>\n",
              "      <td>8.800000e+05</td>\n",
              "    </tr>\n",
              "  </tbody>\n",
              "</table>\n",
              "<p>7903 rows × 3 columns</p>\n",
              "</div>\n",
              "      <button class=\"colab-df-convert\" onclick=\"convertToInteractive('df-e7be4ce3-debc-4b63-afc9-399ceb537e2b')\"\n",
              "              title=\"Convert this dataframe to an interactive table.\"\n",
              "              style=\"display:none;\">\n",
              "        \n",
              "  <svg xmlns=\"http://www.w3.org/2000/svg\" height=\"24px\"viewBox=\"0 0 24 24\"\n",
              "       width=\"24px\">\n",
              "    <path d=\"M0 0h24v24H0V0z\" fill=\"none\"/>\n",
              "    <path d=\"M18.56 5.44l.94 2.06.94-2.06 2.06-.94-2.06-.94-.94-2.06-.94 2.06-2.06.94zm-11 1L8.5 8.5l.94-2.06 2.06-.94-2.06-.94L8.5 2.5l-.94 2.06-2.06.94zm10 10l.94 2.06.94-2.06 2.06-.94-2.06-.94-.94-2.06-.94 2.06-2.06.94z\"/><path d=\"M17.41 7.96l-1.37-1.37c-.4-.4-.92-.59-1.43-.59-.52 0-1.04.2-1.43.59L10.3 9.45l-7.72 7.72c-.78.78-.78 2.05 0 2.83L4 21.41c.39.39.9.59 1.41.59.51 0 1.02-.2 1.41-.59l7.78-7.78 2.81-2.81c.8-.78.8-2.07 0-2.86zM5.41 20L4 18.59l7.72-7.72 1.47 1.35L5.41 20z\"/>\n",
              "  </svg>\n",
              "      </button>\n",
              "      \n",
              "  <style>\n",
              "    .colab-df-container {\n",
              "      display:flex;\n",
              "      flex-wrap:wrap;\n",
              "      gap: 12px;\n",
              "    }\n",
              "\n",
              "    .colab-df-convert {\n",
              "      background-color: #E8F0FE;\n",
              "      border: none;\n",
              "      border-radius: 50%;\n",
              "      cursor: pointer;\n",
              "      display: none;\n",
              "      fill: #1967D2;\n",
              "      height: 32px;\n",
              "      padding: 0 0 0 0;\n",
              "      width: 32px;\n",
              "    }\n",
              "\n",
              "    .colab-df-convert:hover {\n",
              "      background-color: #E2EBFA;\n",
              "      box-shadow: 0px 1px 2px rgba(60, 64, 67, 0.3), 0px 1px 3px 1px rgba(60, 64, 67, 0.15);\n",
              "      fill: #174EA6;\n",
              "    }\n",
              "\n",
              "    [theme=dark] .colab-df-convert {\n",
              "      background-color: #3B4455;\n",
              "      fill: #D2E3FC;\n",
              "    }\n",
              "\n",
              "    [theme=dark] .colab-df-convert:hover {\n",
              "      background-color: #434B5C;\n",
              "      box-shadow: 0px 1px 3px 1px rgba(0, 0, 0, 0.15);\n",
              "      filter: drop-shadow(0px 1px 2px rgba(0, 0, 0, 0.3));\n",
              "      fill: #FFFFFF;\n",
              "    }\n",
              "  </style>\n",
              "\n",
              "      <script>\n",
              "        const buttonEl =\n",
              "          document.querySelector('#df-e7be4ce3-debc-4b63-afc9-399ceb537e2b button.colab-df-convert');\n",
              "        buttonEl.style.display =\n",
              "          google.colab.kernel.accessAllowed ? 'block' : 'none';\n",
              "\n",
              "        async function convertToInteractive(key) {\n",
              "          const element = document.querySelector('#df-e7be4ce3-debc-4b63-afc9-399ceb537e2b');\n",
              "          const dataTable =\n",
              "            await google.colab.kernel.invokeFunction('convertToInteractive',\n",
              "                                                     [key], {});\n",
              "          if (!dataTable) return;\n",
              "\n",
              "          const docLinkHtml = 'Like what you see? Visit the ' +\n",
              "            '<a target=\"_blank\" href=https://colab.research.google.com/notebooks/data_table.ipynb>data table notebook</a>'\n",
              "            + ' to learn more about interactive tables.';\n",
              "          element.innerHTML = '';\n",
              "          dataTable['output_type'] = 'display_data';\n",
              "          await google.colab.output.renderOutput(dataTable, element);\n",
              "          const docLink = document.createElement('div');\n",
              "          docLink.innerHTML = docLinkHtml;\n",
              "          element.appendChild(docLink);\n",
              "        }\n",
              "      </script>\n",
              "    </div>\n",
              "  </div>\n",
              "  "
            ],
            "text/plain": [
              "                      name  videos         views\n",
              "0             Lana Rhoades     391  1.200000e+09\n",
              "1            Abella Danger     996  1.400000e+09\n",
              "2                Eva Elfie     149  7.160000e+08\n",
              "3               Riley Reid     834  1.500000e+09\n",
              "4              Mia Malkova     533  7.060000e+08\n",
              "...                    ...     ...           ...\n",
              "16787         Beau Jingles      11  6.600000e+03\n",
              "16852        Arcanjo Amaro      21  6.950000e+05\n",
              "16940    Labelly Sandorram      12  4.520000e+05\n",
              "17090            Sin-A-Men      12  4.120000e+05\n",
              "17181  Jean-Claude Batiste      19  8.800000e+05\n",
              "\n",
              "[7903 rows x 3 columns]"
            ]
          },
          "execution_count": 35,
          "metadata": {},
          "output_type": "execute_result"
        }
      ],
      "source": [
        "ph_stars[ph_stars['videos']>10]"
      ]
    },
    {
      "cell_type": "code",
      "execution_count": null,
      "metadata": {
        "colab": {
          "base_uri": "https://localhost:8080/"
        },
        "id": "urwV4iPOB6Wm",
        "outputId": "57b6110a-0c97-4817-9755-765d6bcd546d"
      },
      "outputs": [
        {
          "data": {
            "text/plain": [
              "7898"
            ]
          },
          "execution_count": 37,
          "metadata": {},
          "output_type": "execute_result"
        }
      ],
      "source": [
        "lst_pa = ph_stars[ph_stars['videos']>10]['name']\n",
        "lst_pa = list(dict.fromkeys(lst_pa))\n",
        "len(lst_pa)"
      ]
    },
    {
      "cell_type": "code",
      "execution_count": null,
      "metadata": {
        "id": "ePHl58QIB6R8"
      },
      "outputs": [],
      "source": [
        "ph_stars.drop_duplicates('name', inplace=True)\n",
        "ph_stars.sort_values(by='views', ascending=False, inplace=True)"
      ]
    },
    {
      "cell_type": "code",
      "execution_count": null,
      "metadata": {
        "colab": {
          "base_uri": "https://localhost:8080/",
          "height": 423
        },
        "id": "68LaF4D0EvjG",
        "outputId": "a59488f5-92f9-4294-f879-7f081f2c538d"
      },
      "outputs": [
        {
          "data": {
            "text/html": [
              "\n",
              "  <div id=\"df-19ef6942-8f90-4cc7-8b6e-c1c12577b7c9\">\n",
              "    <div class=\"colab-df-container\">\n",
              "      <div>\n",
              "<style scoped>\n",
              "    .dataframe tbody tr th:only-of-type {\n",
              "        vertical-align: middle;\n",
              "    }\n",
              "\n",
              "    .dataframe tbody tr th {\n",
              "        vertical-align: top;\n",
              "    }\n",
              "\n",
              "    .dataframe thead th {\n",
              "        text-align: right;\n",
              "    }\n",
              "</style>\n",
              "<table border=\"1\" class=\"dataframe\">\n",
              "  <thead>\n",
              "    <tr style=\"text-align: right;\">\n",
              "      <th></th>\n",
              "      <th>name</th>\n",
              "      <th>videos</th>\n",
              "      <th>views</th>\n",
              "    </tr>\n",
              "  </thead>\n",
              "  <tbody>\n",
              "    <tr>\n",
              "      <th>122</th>\n",
              "      <td>Tony Profane</td>\n",
              "      <td>543</td>\n",
              "      <td>2.800000e+09</td>\n",
              "    </tr>\n",
              "    <tr>\n",
              "      <th>8</th>\n",
              "      <td>Johnny Sins</td>\n",
              "      <td>991</td>\n",
              "      <td>2.300000e+09</td>\n",
              "    </tr>\n",
              "    <tr>\n",
              "      <th>11</th>\n",
              "      <td>Alex Adams</td>\n",
              "      <td>319</td>\n",
              "      <td>1.800000e+09</td>\n",
              "    </tr>\n",
              "    <tr>\n",
              "      <th>53</th>\n",
              "      <td>James Deen</td>\n",
              "      <td>1075</td>\n",
              "      <td>1.600000e+09</td>\n",
              "    </tr>\n",
              "    <tr>\n",
              "      <th>3</th>\n",
              "      <td>Riley Reid</td>\n",
              "      <td>834</td>\n",
              "      <td>1.500000e+09</td>\n",
              "    </tr>\n",
              "    <tr>\n",
              "      <th>...</th>\n",
              "      <td>...</td>\n",
              "      <td>...</td>\n",
              "      <td>...</td>\n",
              "    </tr>\n",
              "    <tr>\n",
              "      <th>17624</th>\n",
              "      <td>Taylor J. Morgan</td>\n",
              "      <td>0</td>\n",
              "      <td>0.000000e+00</td>\n",
              "    </tr>\n",
              "    <tr>\n",
              "      <th>17625</th>\n",
              "      <td>Christy Body</td>\n",
              "      <td>0</td>\n",
              "      <td>0.000000e+00</td>\n",
              "    </tr>\n",
              "    <tr>\n",
              "      <th>17626</th>\n",
              "      <td>Janet Saisque</td>\n",
              "      <td>0</td>\n",
              "      <td>0.000000e+00</td>\n",
              "    </tr>\n",
              "    <tr>\n",
              "      <th>14219</th>\n",
              "      <td>Skyla Paris</td>\n",
              "      <td>0</td>\n",
              "      <td>0.000000e+00</td>\n",
              "    </tr>\n",
              "    <tr>\n",
              "      <th>14132</th>\n",
              "      <td>Nayuka Mine</td>\n",
              "      <td>0</td>\n",
              "      <td>0.000000e+00</td>\n",
              "    </tr>\n",
              "  </tbody>\n",
              "</table>\n",
              "<p>17722 rows × 3 columns</p>\n",
              "</div>\n",
              "      <button class=\"colab-df-convert\" onclick=\"convertToInteractive('df-19ef6942-8f90-4cc7-8b6e-c1c12577b7c9')\"\n",
              "              title=\"Convert this dataframe to an interactive table.\"\n",
              "              style=\"display:none;\">\n",
              "        \n",
              "  <svg xmlns=\"http://www.w3.org/2000/svg\" height=\"24px\"viewBox=\"0 0 24 24\"\n",
              "       width=\"24px\">\n",
              "    <path d=\"M0 0h24v24H0V0z\" fill=\"none\"/>\n",
              "    <path d=\"M18.56 5.44l.94 2.06.94-2.06 2.06-.94-2.06-.94-.94-2.06-.94 2.06-2.06.94zm-11 1L8.5 8.5l.94-2.06 2.06-.94-2.06-.94L8.5 2.5l-.94 2.06-2.06.94zm10 10l.94 2.06.94-2.06 2.06-.94-2.06-.94-.94-2.06-.94 2.06-2.06.94z\"/><path d=\"M17.41 7.96l-1.37-1.37c-.4-.4-.92-.59-1.43-.59-.52 0-1.04.2-1.43.59L10.3 9.45l-7.72 7.72c-.78.78-.78 2.05 0 2.83L4 21.41c.39.39.9.59 1.41.59.51 0 1.02-.2 1.41-.59l7.78-7.78 2.81-2.81c.8-.78.8-2.07 0-2.86zM5.41 20L4 18.59l7.72-7.72 1.47 1.35L5.41 20z\"/>\n",
              "  </svg>\n",
              "      </button>\n",
              "      \n",
              "  <style>\n",
              "    .colab-df-container {\n",
              "      display:flex;\n",
              "      flex-wrap:wrap;\n",
              "      gap: 12px;\n",
              "    }\n",
              "\n",
              "    .colab-df-convert {\n",
              "      background-color: #E8F0FE;\n",
              "      border: none;\n",
              "      border-radius: 50%;\n",
              "      cursor: pointer;\n",
              "      display: none;\n",
              "      fill: #1967D2;\n",
              "      height: 32px;\n",
              "      padding: 0 0 0 0;\n",
              "      width: 32px;\n",
              "    }\n",
              "\n",
              "    .colab-df-convert:hover {\n",
              "      background-color: #E2EBFA;\n",
              "      box-shadow: 0px 1px 2px rgba(60, 64, 67, 0.3), 0px 1px 3px 1px rgba(60, 64, 67, 0.15);\n",
              "      fill: #174EA6;\n",
              "    }\n",
              "\n",
              "    [theme=dark] .colab-df-convert {\n",
              "      background-color: #3B4455;\n",
              "      fill: #D2E3FC;\n",
              "    }\n",
              "\n",
              "    [theme=dark] .colab-df-convert:hover {\n",
              "      background-color: #434B5C;\n",
              "      box-shadow: 0px 1px 3px 1px rgba(0, 0, 0, 0.15);\n",
              "      filter: drop-shadow(0px 1px 2px rgba(0, 0, 0, 0.3));\n",
              "      fill: #FFFFFF;\n",
              "    }\n",
              "  </style>\n",
              "\n",
              "      <script>\n",
              "        const buttonEl =\n",
              "          document.querySelector('#df-19ef6942-8f90-4cc7-8b6e-c1c12577b7c9 button.colab-df-convert');\n",
              "        buttonEl.style.display =\n",
              "          google.colab.kernel.accessAllowed ? 'block' : 'none';\n",
              "\n",
              "        async function convertToInteractive(key) {\n",
              "          const element = document.querySelector('#df-19ef6942-8f90-4cc7-8b6e-c1c12577b7c9');\n",
              "          const dataTable =\n",
              "            await google.colab.kernel.invokeFunction('convertToInteractive',\n",
              "                                                     [key], {});\n",
              "          if (!dataTable) return;\n",
              "\n",
              "          const docLinkHtml = 'Like what you see? Visit the ' +\n",
              "            '<a target=\"_blank\" href=https://colab.research.google.com/notebooks/data_table.ipynb>data table notebook</a>'\n",
              "            + ' to learn more about interactive tables.';\n",
              "          element.innerHTML = '';\n",
              "          dataTable['output_type'] = 'display_data';\n",
              "          await google.colab.output.renderOutput(dataTable, element);\n",
              "          const docLink = document.createElement('div');\n",
              "          docLink.innerHTML = docLinkHtml;\n",
              "          element.appendChild(docLink);\n",
              "        }\n",
              "      </script>\n",
              "    </div>\n",
              "  </div>\n",
              "  "
            ],
            "text/plain": [
              "                   name  videos         views\n",
              "122        Tony Profane     543  2.800000e+09\n",
              "8           Johnny Sins     991  2.300000e+09\n",
              "11           Alex Adams     319  1.800000e+09\n",
              "53           James Deen    1075  1.600000e+09\n",
              "3            Riley Reid     834  1.500000e+09\n",
              "...                 ...     ...           ...\n",
              "17624  Taylor J. Morgan       0  0.000000e+00\n",
              "17625      Christy Body       0  0.000000e+00\n",
              "17626     Janet Saisque       0  0.000000e+00\n",
              "14219       Skyla Paris       0  0.000000e+00\n",
              "14132       Nayuka Mine       0  0.000000e+00\n",
              "\n",
              "[17722 rows x 3 columns]"
            ]
          },
          "execution_count": 44,
          "metadata": {},
          "output_type": "execute_result"
        }
      ],
      "source": [
        "ph_stars"
      ]
    },
    {
      "cell_type": "code",
      "execution_count": null,
      "metadata": {
        "id": "nvMAxPjGEUsK"
      },
      "outputs": [],
      "source": [
        "ph_stars.to_csv(\"ph_stars_p.csv\")"
      ]
    },
    {
      "cell_type": "markdown",
      "metadata": {
        "id": "KLzFX1U13hUi"
      },
      "source": [
        "#800 pornhub best"
      ]
    },
    {
      "cell_type": "code",
      "execution_count": null,
      "metadata": {
        "id": "uyPOfQji0wEL"
      },
      "outputs": [],
      "source": [
        "req = requests.get(\"https://rt.pornhub.com/pornstars/top\")\n",
        "soup = BeautifulSoup(req.text, 'html.parser')\n",
        "\n",
        "b800ph = []\n",
        "base_url = 'https://rt.pornhub.com'"
      ]
    },
    {
      "cell_type": "code",
      "execution_count": null,
      "metadata": {
        "id": "wJW4WNHV8g95"
      },
      "outputs": [],
      "source": [
        "for i in soup(class_='index-title')[1:]:\n",
        "    name = re.match(r'.*\">(.*)</a></li>', str(i)).group(1)\n",
        "    href = base_url + re.match(r'.*href=\"(.*)\".*', str(i)).group(1)\n",
        "    b800ph.append((name, href))"
      ]
    },
    {
      "cell_type": "code",
      "execution_count": null,
      "metadata": {
        "id": "yPRPMqrj9QiK"
      },
      "outputs": [],
      "source": [
        "b800ph_df = pd.DataFrame(b800ph, columns=['name', 'url'])"
      ]
    },
    {
      "cell_type": "code",
      "execution_count": null,
      "metadata": {
        "colab": {
          "base_uri": "https://localhost:8080/",
          "height": 423
        },
        "id": "wyWuuSEi9pt3",
        "outputId": "6689d70b-bb42-41f2-a72b-192c2493a16c"
      },
      "outputs": [
        {
          "data": {
            "text/html": [
              "\n",
              "  <div id=\"df-03b79dfc-c82a-4c72-955d-b173e226f38f\">\n",
              "    <div class=\"colab-df-container\">\n",
              "      <div>\n",
              "<style scoped>\n",
              "    .dataframe tbody tr th:only-of-type {\n",
              "        vertical-align: middle;\n",
              "    }\n",
              "\n",
              "    .dataframe tbody tr th {\n",
              "        vertical-align: top;\n",
              "    }\n",
              "\n",
              "    .dataframe thead th {\n",
              "        text-align: right;\n",
              "    }\n",
              "</style>\n",
              "<table border=\"1\" class=\"dataframe\">\n",
              "  <thead>\n",
              "    <tr style=\"text-align: right;\">\n",
              "      <th></th>\n",
              "      <th>name</th>\n",
              "      <th>url</th>\n",
              "    </tr>\n",
              "  </thead>\n",
              "  <tbody>\n",
              "    <tr>\n",
              "      <th>0</th>\n",
              "      <td>Lana Rhoades</td>\n",
              "      <td>https://rt.pornhub.com/pornstar/lana-rhoades</td>\n",
              "    </tr>\n",
              "    <tr>\n",
              "      <th>1</th>\n",
              "      <td>Abella Danger</td>\n",
              "      <td>https://rt.pornhub.com/pornstar/abella-danger</td>\n",
              "    </tr>\n",
              "    <tr>\n",
              "      <th>2</th>\n",
              "      <td>Eva Elfie</td>\n",
              "      <td>https://rt.pornhub.com/pornstar/eva-elfie</td>\n",
              "    </tr>\n",
              "    <tr>\n",
              "      <th>3</th>\n",
              "      <td>Riley Reid</td>\n",
              "      <td>https://rt.pornhub.com/pornstar/riley-reid</td>\n",
              "    </tr>\n",
              "    <tr>\n",
              "      <th>4</th>\n",
              "      <td>Mia Malkova</td>\n",
              "      <td>https://rt.pornhub.com/pornstar/mia-malkova</td>\n",
              "    </tr>\n",
              "    <tr>\n",
              "      <th>...</th>\n",
              "      <td>...</td>\n",
              "      <td>...</td>\n",
              "    </tr>\n",
              "    <tr>\n",
              "      <th>795</th>\n",
              "      <td>Angel Smalls</td>\n",
              "      <td>https://rt.pornhub.com/pornstar/angel-smalls</td>\n",
              "    </tr>\n",
              "    <tr>\n",
              "      <th>796</th>\n",
              "      <td>Megan Marx</td>\n",
              "      <td>https://rt.pornhub.com/pornstar/megan-marx</td>\n",
              "    </tr>\n",
              "    <tr>\n",
              "      <th>797</th>\n",
              "      <td>Eveline Dellai</td>\n",
              "      <td>https://rt.pornhub.com/pornstar/eveline-dellai</td>\n",
              "    </tr>\n",
              "    <tr>\n",
              "      <th>798</th>\n",
              "      <td>Sean Lawless</td>\n",
              "      <td>https://rt.pornhub.com/pornstar/sean-lawless</td>\n",
              "    </tr>\n",
              "    <tr>\n",
              "      <th>799</th>\n",
              "      <td>Xxlayna Marie</td>\n",
              "      <td>https://rt.pornhub.com/pornstar/xxlayna-marie</td>\n",
              "    </tr>\n",
              "  </tbody>\n",
              "</table>\n",
              "<p>800 rows × 2 columns</p>\n",
              "</div>\n",
              "      <button class=\"colab-df-convert\" onclick=\"convertToInteractive('df-03b79dfc-c82a-4c72-955d-b173e226f38f')\"\n",
              "              title=\"Convert this dataframe to an interactive table.\"\n",
              "              style=\"display:none;\">\n",
              "        \n",
              "  <svg xmlns=\"http://www.w3.org/2000/svg\" height=\"24px\"viewBox=\"0 0 24 24\"\n",
              "       width=\"24px\">\n",
              "    <path d=\"M0 0h24v24H0V0z\" fill=\"none\"/>\n",
              "    <path d=\"M18.56 5.44l.94 2.06.94-2.06 2.06-.94-2.06-.94-.94-2.06-.94 2.06-2.06.94zm-11 1L8.5 8.5l.94-2.06 2.06-.94-2.06-.94L8.5 2.5l-.94 2.06-2.06.94zm10 10l.94 2.06.94-2.06 2.06-.94-2.06-.94-.94-2.06-.94 2.06-2.06.94z\"/><path d=\"M17.41 7.96l-1.37-1.37c-.4-.4-.92-.59-1.43-.59-.52 0-1.04.2-1.43.59L10.3 9.45l-7.72 7.72c-.78.78-.78 2.05 0 2.83L4 21.41c.39.39.9.59 1.41.59.51 0 1.02-.2 1.41-.59l7.78-7.78 2.81-2.81c.8-.78.8-2.07 0-2.86zM5.41 20L4 18.59l7.72-7.72 1.47 1.35L5.41 20z\"/>\n",
              "  </svg>\n",
              "      </button>\n",
              "      \n",
              "  <style>\n",
              "    .colab-df-container {\n",
              "      display:flex;\n",
              "      flex-wrap:wrap;\n",
              "      gap: 12px;\n",
              "    }\n",
              "\n",
              "    .colab-df-convert {\n",
              "      background-color: #E8F0FE;\n",
              "      border: none;\n",
              "      border-radius: 50%;\n",
              "      cursor: pointer;\n",
              "      display: none;\n",
              "      fill: #1967D2;\n",
              "      height: 32px;\n",
              "      padding: 0 0 0 0;\n",
              "      width: 32px;\n",
              "    }\n",
              "\n",
              "    .colab-df-convert:hover {\n",
              "      background-color: #E2EBFA;\n",
              "      box-shadow: 0px 1px 2px rgba(60, 64, 67, 0.3), 0px 1px 3px 1px rgba(60, 64, 67, 0.15);\n",
              "      fill: #174EA6;\n",
              "    }\n",
              "\n",
              "    [theme=dark] .colab-df-convert {\n",
              "      background-color: #3B4455;\n",
              "      fill: #D2E3FC;\n",
              "    }\n",
              "\n",
              "    [theme=dark] .colab-df-convert:hover {\n",
              "      background-color: #434B5C;\n",
              "      box-shadow: 0px 1px 3px 1px rgba(0, 0, 0, 0.15);\n",
              "      filter: drop-shadow(0px 1px 2px rgba(0, 0, 0, 0.3));\n",
              "      fill: #FFFFFF;\n",
              "    }\n",
              "  </style>\n",
              "\n",
              "      <script>\n",
              "        const buttonEl =\n",
              "          document.querySelector('#df-03b79dfc-c82a-4c72-955d-b173e226f38f button.colab-df-convert');\n",
              "        buttonEl.style.display =\n",
              "          google.colab.kernel.accessAllowed ? 'block' : 'none';\n",
              "\n",
              "        async function convertToInteractive(key) {\n",
              "          const element = document.querySelector('#df-03b79dfc-c82a-4c72-955d-b173e226f38f');\n",
              "          const dataTable =\n",
              "            await google.colab.kernel.invokeFunction('convertToInteractive',\n",
              "                                                     [key], {});\n",
              "          if (!dataTable) return;\n",
              "\n",
              "          const docLinkHtml = 'Like what you see? Visit the ' +\n",
              "            '<a target=\"_blank\" href=https://colab.research.google.com/notebooks/data_table.ipynb>data table notebook</a>'\n",
              "            + ' to learn more about interactive tables.';\n",
              "          element.innerHTML = '';\n",
              "          dataTable['output_type'] = 'display_data';\n",
              "          await google.colab.output.renderOutput(dataTable, element);\n",
              "          const docLink = document.createElement('div');\n",
              "          docLink.innerHTML = docLinkHtml;\n",
              "          element.appendChild(docLink);\n",
              "        }\n",
              "      </script>\n",
              "    </div>\n",
              "  </div>\n",
              "  "
            ],
            "text/plain": [
              "               name                                             url\n",
              "0      Lana Rhoades    https://rt.pornhub.com/pornstar/lana-rhoades\n",
              "1     Abella Danger   https://rt.pornhub.com/pornstar/abella-danger\n",
              "2         Eva Elfie       https://rt.pornhub.com/pornstar/eva-elfie\n",
              "3        Riley Reid      https://rt.pornhub.com/pornstar/riley-reid\n",
              "4       Mia Malkova     https://rt.pornhub.com/pornstar/mia-malkova\n",
              "..              ...                                             ...\n",
              "795    Angel Smalls    https://rt.pornhub.com/pornstar/angel-smalls\n",
              "796      Megan Marx      https://rt.pornhub.com/pornstar/megan-marx\n",
              "797  Eveline Dellai  https://rt.pornhub.com/pornstar/eveline-dellai\n",
              "798    Sean Lawless    https://rt.pornhub.com/pornstar/sean-lawless\n",
              "799   Xxlayna Marie   https://rt.pornhub.com/pornstar/xxlayna-marie\n",
              "\n",
              "[800 rows x 2 columns]"
            ]
          },
          "execution_count": 28,
          "metadata": {},
          "output_type": "execute_result"
        }
      ],
      "source": [
        "b800ph_df"
      ]
    },
    {
      "cell_type": "code",
      "execution_count": null,
      "metadata": {
        "id": "onKdThmW9WHM"
      },
      "outputs": [],
      "source": [
        "b800ph_df.to_csv(\"/content/drive/MyDrive/python/PronStarSimilarity/b800ph.csv\")"
      ]
    },
    {
      "cell_type": "markdown",
      "metadata": {
        "id": "jJGXAZOZ-OWq"
      },
      "source": [
        "get photos 800 pornhub best"
      ]
    },
    {
      "cell_type": "code",
      "execution_count": null,
      "metadata": {
        "id": "jA2iGUwq-RNN"
      },
      "outputs": [],
      "source": [
        "index = 6\n",
        "while index < len(b800ph_df):\n",
        "    req = requests.get(b800ph_df['url'][index])\n",
        "    soup = BeautifulSoup(req.text, 'html.parser')\n",
        "    try:\n",
        "        response = requests.get(soup(class_='previewAvatarPicture')[0](class_='jcrop-preview')[0]['src'])\n",
        "        file = open(f\"/content/drive/MyDrive/python/PronStarSimilarity/pornhub_800best/{b800ph_df['name'][index]}_b800.png\", \"wb\")\n",
        "        file.write(response.content)\n",
        "        file.close()\n",
        "    except:\n",
        "        response = requests.get(soup(class_='thumbImage')[0]('img')[0]['src'])\n",
        "        file = open(f\"/content/drive/MyDrive/python/PronStarSimilarity/pornhub_800best/{b800ph_df['name'][index]}_b800.png\", \"wb\")\n",
        "        file.write(response.content)\n",
        "        file.close()        \n",
        "\n",
        "    time.sleep(2)\n",
        "    index += 1"
      ]
    },
    {
      "cell_type": "markdown",
      "metadata": {
        "id": "BfdxWhc3Ezkr"
      },
      "source": [
        "#Get photos of actors from bing.com *!not used*"
      ]
    },
    {
      "cell_type": "markdown",
      "metadata": {
        "id": "Wuxod6ZV0loN"
      },
      "source": [
        "Not used because of loading many non relevant photos"
      ]
    },
    {
      "cell_type": "code",
      "execution_count": null,
      "metadata": {
        "colab": {
          "base_uri": "https://localhost:8080/"
        },
        "id": "i8MBDELNE1us",
        "outputId": "1bb5a831-5e0a-4082-8706-1f3cc50456f2"
      },
      "outputs": [
        {
          "name": "stdout",
          "output_type": "stream",
          "text": [
            "Collecting bing-image-downloader\n",
            "  Downloading bing_image_downloader-1.1.2-py3-none-any.whl (5.9 kB)\n",
            "Installing collected packages: bing-image-downloader\n",
            "Successfully installed bing-image-downloader-1.1.2\n"
          ]
        }
      ],
      "source": [
        "!pip install bing-image-downloader"
      ]
    },
    {
      "cell_type": "code",
      "execution_count": null,
      "metadata": {
        "id": "2g0W_De5G_vu"
      },
      "outputs": [],
      "source": [
        "from bing_image_downloader import downloader\n",
        "from IPython.display import clear_output \n",
        "import os"
      ]
    },
    {
      "cell_type": "code",
      "execution_count": null,
      "metadata": {
        "colab": {
          "base_uri": "https://localhost:8080/"
        },
        "id": "h3lHfQaAHVP_",
        "outputId": "c78f81d6-13d3-45d2-bd22-115a69f0d694"
      },
      "outputs": [
        {
          "name": "stdout",
          "output_type": "stream",
          "text": [
            "Mounted at /content/drive\n"
          ]
        }
      ],
      "source": [
        "from google.colab import drive\n",
        "drive.mount('/content/drive')\n",
        "\n",
        "dir_images = \"/content/drive/MyDrive/python/PronStarSimilarity/porn_stars\""
      ]
    },
    {
      "cell_type": "code",
      "execution_count": null,
      "metadata": {
        "id": "YSSXok3dLYC3"
      },
      "outputs": [],
      "source": [
        "# load database to google drive\n",
        "ph_stars.to_csv(\"/content/drive/MyDrive/python/PronStarSimilarity/ph_starts_p_all.csv\", index=False)"
      ]
    },
    {
      "cell_type": "code",
      "execution_count": null,
      "metadata": {
        "id": "gbggRiWGKIgk"
      },
      "outputs": [],
      "source": [
        "ph_stars['name'] = ph_stars['name'].apply(lambda x: re.sub(r'\\s+', ' ', x).strip(\" \"))\n",
        "ph_stars = ph_stars[ph_stars['name'].str.contains(\" \")]"
      ]
    },
    {
      "cell_type": "code",
      "execution_count": null,
      "metadata": {
        "colab": {
          "base_uri": "https://localhost:8080/",
          "height": 423
        },
        "id": "-x3VcgTBLR09",
        "outputId": "37f5648f-9292-4baa-cb8e-f7d82a7b9398"
      },
      "outputs": [
        {
          "data": {
            "text/html": [
              "\n",
              "  <div id=\"df-cc3db6fc-2b27-48e8-a803-7c35e0b70891\">\n",
              "    <div class=\"colab-df-container\">\n",
              "      <div>\n",
              "<style scoped>\n",
              "    .dataframe tbody tr th:only-of-type {\n",
              "        vertical-align: middle;\n",
              "    }\n",
              "\n",
              "    .dataframe tbody tr th {\n",
              "        vertical-align: top;\n",
              "    }\n",
              "\n",
              "    .dataframe thead th {\n",
              "        text-align: right;\n",
              "    }\n",
              "</style>\n",
              "<table border=\"1\" class=\"dataframe\">\n",
              "  <thead>\n",
              "    <tr style=\"text-align: right;\">\n",
              "      <th></th>\n",
              "      <th>name</th>\n",
              "      <th>videos</th>\n",
              "      <th>views</th>\n",
              "    </tr>\n",
              "  </thead>\n",
              "  <tbody>\n",
              "    <tr>\n",
              "      <th>0</th>\n",
              "      <td>Tony Profane</td>\n",
              "      <td>543</td>\n",
              "      <td>2.800000e+09</td>\n",
              "    </tr>\n",
              "    <tr>\n",
              "      <th>1</th>\n",
              "      <td>Johnny Sins</td>\n",
              "      <td>991</td>\n",
              "      <td>2.300000e+09</td>\n",
              "    </tr>\n",
              "    <tr>\n",
              "      <th>2</th>\n",
              "      <td>Alex Adams</td>\n",
              "      <td>319</td>\n",
              "      <td>1.800000e+09</td>\n",
              "    </tr>\n",
              "    <tr>\n",
              "      <th>3</th>\n",
              "      <td>James Deen</td>\n",
              "      <td>1075</td>\n",
              "      <td>1.600000e+09</td>\n",
              "    </tr>\n",
              "    <tr>\n",
              "      <th>4</th>\n",
              "      <td>Riley Reid</td>\n",
              "      <td>834</td>\n",
              "      <td>1.500000e+09</td>\n",
              "    </tr>\n",
              "    <tr>\n",
              "      <th>...</th>\n",
              "      <td>...</td>\n",
              "      <td>...</td>\n",
              "      <td>...</td>\n",
              "    </tr>\n",
              "    <tr>\n",
              "      <th>12471</th>\n",
              "      <td>Gorgeousleigh Chaotic</td>\n",
              "      <td>58</td>\n",
              "      <td>6.390000e+04</td>\n",
              "    </tr>\n",
              "    <tr>\n",
              "      <th>12593</th>\n",
              "      <td>Eve X</td>\n",
              "      <td>56</td>\n",
              "      <td>5.690000e+04</td>\n",
              "    </tr>\n",
              "    <tr>\n",
              "      <th>12608</th>\n",
              "      <td>Mistress Irony</td>\n",
              "      <td>52</td>\n",
              "      <td>5.630000e+04</td>\n",
              "    </tr>\n",
              "    <tr>\n",
              "      <th>13025</th>\n",
              "      <td>Jackie Brown</td>\n",
              "      <td>162</td>\n",
              "      <td>3.680000e+04</td>\n",
              "    </tr>\n",
              "    <tr>\n",
              "      <th>13680</th>\n",
              "      <td>Sexy Dea</td>\n",
              "      <td>52</td>\n",
              "      <td>1.410000e+04</td>\n",
              "    </tr>\n",
              "  </tbody>\n",
              "</table>\n",
              "<p>3064 rows × 3 columns</p>\n",
              "</div>\n",
              "      <button class=\"colab-df-convert\" onclick=\"convertToInteractive('df-cc3db6fc-2b27-48e8-a803-7c35e0b70891')\"\n",
              "              title=\"Convert this dataframe to an interactive table.\"\n",
              "              style=\"display:none;\">\n",
              "        \n",
              "  <svg xmlns=\"http://www.w3.org/2000/svg\" height=\"24px\"viewBox=\"0 0 24 24\"\n",
              "       width=\"24px\">\n",
              "    <path d=\"M0 0h24v24H0V0z\" fill=\"none\"/>\n",
              "    <path d=\"M18.56 5.44l.94 2.06.94-2.06 2.06-.94-2.06-.94-.94-2.06-.94 2.06-2.06.94zm-11 1L8.5 8.5l.94-2.06 2.06-.94-2.06-.94L8.5 2.5l-.94 2.06-2.06.94zm10 10l.94 2.06.94-2.06 2.06-.94-2.06-.94-.94-2.06-.94 2.06-2.06.94z\"/><path d=\"M17.41 7.96l-1.37-1.37c-.4-.4-.92-.59-1.43-.59-.52 0-1.04.2-1.43.59L10.3 9.45l-7.72 7.72c-.78.78-.78 2.05 0 2.83L4 21.41c.39.39.9.59 1.41.59.51 0 1.02-.2 1.41-.59l7.78-7.78 2.81-2.81c.8-.78.8-2.07 0-2.86zM5.41 20L4 18.59l7.72-7.72 1.47 1.35L5.41 20z\"/>\n",
              "  </svg>\n",
              "      </button>\n",
              "      \n",
              "  <style>\n",
              "    .colab-df-container {\n",
              "      display:flex;\n",
              "      flex-wrap:wrap;\n",
              "      gap: 12px;\n",
              "    }\n",
              "\n",
              "    .colab-df-convert {\n",
              "      background-color: #E8F0FE;\n",
              "      border: none;\n",
              "      border-radius: 50%;\n",
              "      cursor: pointer;\n",
              "      display: none;\n",
              "      fill: #1967D2;\n",
              "      height: 32px;\n",
              "      padding: 0 0 0 0;\n",
              "      width: 32px;\n",
              "    }\n",
              "\n",
              "    .colab-df-convert:hover {\n",
              "      background-color: #E2EBFA;\n",
              "      box-shadow: 0px 1px 2px rgba(60, 64, 67, 0.3), 0px 1px 3px 1px rgba(60, 64, 67, 0.15);\n",
              "      fill: #174EA6;\n",
              "    }\n",
              "\n",
              "    [theme=dark] .colab-df-convert {\n",
              "      background-color: #3B4455;\n",
              "      fill: #D2E3FC;\n",
              "    }\n",
              "\n",
              "    [theme=dark] .colab-df-convert:hover {\n",
              "      background-color: #434B5C;\n",
              "      box-shadow: 0px 1px 3px 1px rgba(0, 0, 0, 0.15);\n",
              "      filter: drop-shadow(0px 1px 2px rgba(0, 0, 0, 0.3));\n",
              "      fill: #FFFFFF;\n",
              "    }\n",
              "  </style>\n",
              "\n",
              "      <script>\n",
              "        const buttonEl =\n",
              "          document.querySelector('#df-cc3db6fc-2b27-48e8-a803-7c35e0b70891 button.colab-df-convert');\n",
              "        buttonEl.style.display =\n",
              "          google.colab.kernel.accessAllowed ? 'block' : 'none';\n",
              "\n",
              "        async function convertToInteractive(key) {\n",
              "          const element = document.querySelector('#df-cc3db6fc-2b27-48e8-a803-7c35e0b70891');\n",
              "          const dataTable =\n",
              "            await google.colab.kernel.invokeFunction('convertToInteractive',\n",
              "                                                     [key], {});\n",
              "          if (!dataTable) return;\n",
              "\n",
              "          const docLinkHtml = 'Like what you see? Visit the ' +\n",
              "            '<a target=\"_blank\" href=https://colab.research.google.com/notebooks/data_table.ipynb>data table notebook</a>'\n",
              "            + ' to learn more about interactive tables.';\n",
              "          element.innerHTML = '';\n",
              "          dataTable['output_type'] = 'display_data';\n",
              "          await google.colab.output.renderOutput(dataTable, element);\n",
              "          const docLink = document.createElement('div');\n",
              "          docLink.innerHTML = docLinkHtml;\n",
              "          element.appendChild(docLink);\n",
              "        }\n",
              "      </script>\n",
              "    </div>\n",
              "  </div>\n",
              "  "
            ],
            "text/plain": [
              "                        name  videos         views\n",
              "0               Tony Profane     543  2.800000e+09\n",
              "1                Johnny Sins     991  2.300000e+09\n",
              "2                 Alex Adams     319  1.800000e+09\n",
              "3                 James Deen    1075  1.600000e+09\n",
              "4                 Riley Reid     834  1.500000e+09\n",
              "...                      ...     ...           ...\n",
              "12471  Gorgeousleigh Chaotic      58  6.390000e+04\n",
              "12593                  Eve X      56  5.690000e+04\n",
              "12608         Mistress Irony      52  5.630000e+04\n",
              "13025           Jackie Brown     162  3.680000e+04\n",
              "13680               Sexy Dea      52  1.410000e+04\n",
              "\n",
              "[3064 rows x 3 columns]"
            ]
          },
          "execution_count": 11,
          "metadata": {},
          "output_type": "execute_result"
        }
      ],
      "source": [
        "ph_stars_f = ph_stars[ph_stars['videos']>50]\n",
        "ph_stars_f"
      ]
    },
    {
      "cell_type": "code",
      "execution_count": null,
      "metadata": {
        "id": "xVBMjE1aLNiO"
      },
      "outputs": [],
      "source": [
        "# load filtered database to google drive\n",
        "ph_stars_f.to_csv(\"/content/drive/MyDrive/python/PronStarSimilarity/ph_stars_f.csv\", index=False)"
      ]
    },
    {
      "cell_type": "code",
      "execution_count": null,
      "metadata": {
        "colab": {
          "base_uri": "https://localhost:8080/",
          "height": 240
        },
        "id": "mSYsoLy0EuAu",
        "outputId": "ee9cda08-7fcc-4a44-d1af-18cafc97a562"
      },
      "outputs": [
        {
          "name": "stderr",
          "output_type": "stream",
          "text": [
            "\r  5%|▌         | 109/2155 [11:17<3:31:58,  6.22s/it]\n"
          ]
        },
        {
          "ename": "KeyboardInterrupt",
          "evalue": "ignored",
          "output_type": "error",
          "traceback": [
            "\u001b[0;31m---------------------------------------------------------------------------\u001b[0m",
            "\u001b[0;31mKeyboardInterrupt\u001b[0m                         Traceback (most recent call last)",
            "\u001b[0;32m<ipython-input-91-55d1f8e0503b>\u001b[0m in \u001b[0;36m<module>\u001b[0;34m()\u001b[0m\n\u001b[1;32m      3\u001b[0m     \u001b[0mdownloader\u001b[0m\u001b[0;34m.\u001b[0m\u001b[0mdownload\u001b[0m\u001b[0;34m(\u001b[0m\u001b[0msearch_request\u001b[0m\u001b[0;34m,\u001b[0m \u001b[0mlimit\u001b[0m\u001b[0;34m=\u001b[0m\u001b[0;36m5\u001b[0m\u001b[0;34m,\u001b[0m  \u001b[0moutput_dir\u001b[0m\u001b[0;34m=\u001b[0m\u001b[0mdir_images\u001b[0m\u001b[0;34m,\u001b[0m \u001b[0madult_filter_off\u001b[0m\u001b[0;34m=\u001b[0m\u001b[0;32mFalse\u001b[0m\u001b[0;34m,\u001b[0m \u001b[0mforce_replace\u001b[0m\u001b[0;34m=\u001b[0m\u001b[0;32mFalse\u001b[0m\u001b[0;34m,\u001b[0m \u001b[0mtimeout\u001b[0m\u001b[0;34m=\u001b[0m\u001b[0;36m60\u001b[0m\u001b[0;34m,\u001b[0m \u001b[0mverbose\u001b[0m\u001b[0;34m=\u001b[0m\u001b[0;32mTrue\u001b[0m\u001b[0;34m)\u001b[0m\u001b[0;34m\u001b[0m\u001b[0;34m\u001b[0m\u001b[0m\n\u001b[1;32m      4\u001b[0m     \u001b[0mclear_output\u001b[0m\u001b[0;34m(\u001b[0m\u001b[0;34m)\u001b[0m\u001b[0;34m\u001b[0m\u001b[0;34m\u001b[0m\u001b[0m\n\u001b[0;32m----> 5\u001b[0;31m     \u001b[0mtime\u001b[0m\u001b[0;34m.\u001b[0m\u001b[0msleep\u001b[0m\u001b[0;34m(\u001b[0m\u001b[0;36m2\u001b[0m\u001b[0;34m)\u001b[0m\u001b[0;34m\u001b[0m\u001b[0;34m\u001b[0m\u001b[0m\n\u001b[0m",
            "\u001b[0;31mKeyboardInterrupt\u001b[0m: "
          ]
        }
      ],
      "source": [
        "for star in tqdm(ph_stars_f['name'][909:], position=True, leave=True):\n",
        "    search_request = star + \" porn star\"\n",
        "    downloader.download(search_request, limit=5,  output_dir=dir_images, adult_filter_off=False, force_replace=False, timeout=60, verbose=True)\n",
        "    clear_output()\n",
        "    time.sleep(2)"
      ]
    },
    {
      "cell_type": "markdown",
      "metadata": {
        "id": "JSDCm61FjsTR"
      },
      "source": [
        "# Get porn star photos in IAFD (internet adult film database)"
      ]
    },
    {
      "cell_type": "code",
      "execution_count": null,
      "metadata": {
        "id": "YtgQBF7mhDA-"
      },
      "outputs": [],
      "source": [
        "from selenium import webdriver\n",
        "from selenium.webdriver.common.by import By\n",
        "from selenium.webdriver.common.action_chains import ActionChains\n",
        "from selenium.webdriver.support.ui import WebDriverWait\n",
        "from selenium.webdriver.support import expected_conditions as EC\n",
        "from selenium.common.exceptions import NoSuchElementException\n",
        "from selenium.webdriver.chrome.options import Options"
      ]
    },
    {
      "cell_type": "code",
      "execution_count": null,
      "metadata": {
        "id": "rsP9xzdU36Ru"
      },
      "outputs": [],
      "source": [
        "ps_db['iafd_links'] = ph_stars['name'].apply(lambda x: f'https://www.iafd.com/person.rme/perfid={str(x).lower().replace(\" \", \"\")}/gender=f/{str(x).lower().replace(\" \", \"-\")}.htm')\n",
        "ps_db['load'] = ph_stars['iafd_links']"
      ]
    },
    {
      "cell_type": "code",
      "execution_count": null,
      "metadata": {
        "id": "71KwqZA9hbNp"
      },
      "outputs": [],
      "source": [
        "# Initialization of a new session at each iteration is needed to bypass the site captcha\n",
        "index = 0\n",
        "while index < len(ps_db):\n",
        "    try:\n",
        "        chrome_options = Options()\n",
        "        chrome_options.add_argument('--no-sandbox')\n",
        "        chrome_options.add_argument('--ignore-certificate-errors')\n",
        "        chrome_options.add_argument('--headless')\n",
        "        chrome_options.add_argument('--disable-dev-shm-usage')\n",
        "        driver = webdriver.Chrome() #options=chrome_options\n",
        "        driver.get(ps_db['iafd_links'][index])\n",
        "        timeout = 10\n",
        "        element_present = EC.presence_of_element_located((By.XPATH, '//*[@id=\"headshot\"]/img'))\n",
        "        WebDriverWait(driver, timeout).until(element_present)\n",
        "        time.sleep(5)\n",
        "        response = requests.get(driver.find_elements_by_xpath('//*[@id=\"headshot\"]/img')[0].get_attribute(\"src\"))\n",
        "        \n",
        "        file = open(f\"./ps_photos/{ps_db['name'][index]}.jpeg\", \"wb\")\n",
        "        file.write(response.content)\n",
        "        ps_db.iloc[index,-1] = 'loaded'\n",
        "        file.close()\n",
        "        \n",
        "        driver.close()\n",
        "        ps_db.to_csv('iafd_links.csv', index=False)\n",
        "        time.sleep(3)\n",
        "    except:\n",
        "        driver.close()\n",
        "        time.sleep(3)\n",
        "        pass\n",
        "    index += 1"
      ]
    }
  ],
  "metadata": {
    "colab": {
      "collapsed_sections": [
        "BfdxWhc3Ezkr"
      ],
      "name": "pornhub_data_collection.ipynb",
      "provenance": []
    },
    "kernelspec": {
      "display_name": "Python 3",
      "name": "python3"
    },
    "language_info": {
      "name": "python"
    }
  },
  "nbformat": 4,
  "nbformat_minor": 0
}
